{
 "cells": [
  {
   "cell_type": "markdown",
   "metadata": {},
   "source": [
    "# Keeping clean JSON in python with colander\n",
    "\n",
    "Despite being derived from Java Script, the JSON data format has quickly spread to other languages and python is no exception. Commonly referred to as dictionary, the simple key-value mapping offers a wide range of use cases: data storage, configuration and … data transfer !\n",
    "\n",
    "Let’s assume that one of your component needs to send the details of a person’s order to other components."
   ]
  },
  {
   "cell_type": "code",
   "execution_count": 1,
   "metadata": {},
   "outputs": [],
   "source": [
    "message = {\n",
    "    \"name\": \"Paul O'Brady\",\n",
    "    \"email\": \"paul.obrady@example.com\",\n",
    "    \"gender\": \"M\",\n",
    "    \"date_of_birth\": \"1990-01-01\",\n",
    "    \"coffee_club_member\": True,\n",
    "    \"order\": {\n",
    "        \"order_id\": 1111,\n",
    "        \"items\": [\n",
    "            {\n",
    "                \"product_id\": 12345,\n",
    "                \"quantity\": 1,\n",
    "                \"unit_price\": 4.65,\n",
    "            },\n",
    "            {\n",
    "                \"product_id\": 54321,\n",
    "                \"quantity\": 2,\n",
    "                \"unit_price\": 8.19,\n",
    "            },\n",
    "            {\n",
    "                \"product_id\": 112233,\n",
    "                \"quantity\": 1,\n",
    "                \"unit_price\": None,\n",
    "            },\n",
    "        ],\n",
    "    }\n",
    "}"
   ]
  },
  {
   "cell_type": "markdown",
   "metadata": {},
   "source": [
    "## 1. Default serialization\n",
    "\n",
    "To make sure that the information is understood by the receiver, we need to format the json to a certain standard: the JSON open standard file format. This operation converts each value of the dictionary as a json data type and place the whole object into a string. This way it can be decoded by any receiver, regardless of the language it is written with."
   ]
  },
  {
   "cell_type": "code",
   "execution_count": 2,
   "metadata": {},
   "outputs": [
    {
     "data": {
      "text/plain": [
       "'{\"name\": \"Paul O\\'Brady\", \"email\": \"paul.obrady@example.com\", \"gender\": \"M\", \"date_of_birth\": \"1990-01-01\", \"coffee_club_member\": true, \"order\": {\"order_id\": 1111, \"items\": [{\"product_id\": 12345, \"quantity\": 1, \"unit_price\": 4.65}, {\"product_id\": 54321, \"quantity\": 2, \"unit_price\": 8.19}, {\"product_id\": 112233, \"quantity\": 1, \"unit_price\": null}]}}'"
      ]
     },
     "execution_count": 2,
     "metadata": {},
     "output_type": "execute_result"
    }
   ],
   "source": [
    "import json\n",
    "\n",
    "message_serialized = json.dumps(message)\n",
    "message_serialized"
   ]
  },
  {
   "cell_type": "markdown",
   "metadata": {},
   "source": [
    "Few things worth noting here: \n",
    "* the apostrophe in the `name` is automatically escaped\n",
    "* the boolean `coffee_club_member` switched from True (python) to true (js)\n",
    "* the last `unit_price` switch from None (python) to null (js). Also the whole object is now a string."
   ]
  },
  {
   "cell_type": "code",
   "execution_count": 3,
   "metadata": {},
   "outputs": [
    {
     "data": {
      "text/plain": [
       "{'name': \"Paul O'Brady\",\n",
       " 'email': 'paul.obrady@example.com',\n",
       " 'gender': 'M',\n",
       " 'date_of_birth': '1990-01-01',\n",
       " 'coffee_club_member': True,\n",
       " 'order': {'order_id': 1111,\n",
       "  'items': [{'product_id': 12345, 'quantity': 1, 'unit_price': 4.65},\n",
       "   {'product_id': 54321, 'quantity': 2, 'unit_price': 8.19},\n",
       "   {'product_id': 112233, 'quantity': 1, 'unit_price': None}]}}"
      ]
     },
     "execution_count": 3,
     "metadata": {},
     "output_type": "execute_result"
    }
   ],
   "source": [
    "message_deserialized = json.loads(message_serialized)\n",
    "message_deserialized"
   ]
  },
  {
   "cell_type": "markdown",
   "metadata": {},
   "source": [
    "And just like that you get back what we have originally.\n",
    "\n",
    "Regardless of what you want to do with this serialized message (save it in a database, send it via a Pub/Sub messaging service…), it is clear that the sender and receiver components need to agree on a shared data schema.\n",
    "\n",
    "This default serialization doesn't define nor validate the data contained inside the json.\n",
    "\n",
    "**What would happen if some keys are missing, or if some values are incorrect ?**"
   ]
  },
  {
   "cell_type": "markdown",
   "metadata": {},
   "source": [
    "## 2. Using [colander](https://docs.pylonsproject.org/projects/colander/en/latest/)\n",
    "\n",
    "In the case where the data transfer occurs between 2 python processes, [colander](https://docs.pylonsproject.org/projects/colander/en/latest/) is a better serialization library as it checks for consistency of the JSON schema by performing a key be key validation and then converts each value into a string. Similarly, colander deserialization will check each serialized string and and convert it back to the defined type.\n",
    "\n",
    "We start by defining each structure as a child class of `MappingSchema`. Each key inside the structure is defined as a `SchemaNode` which can be of different types all documented [here](https://docs.pylonsproject.org/projects/colander/en/latest/api.html#types). On top of defining the data types, we have the possibility to add [validators](https://docs.pylonsproject.org/projects/colander/en/latest/api.html#validators) and preparers. For lists, we inherit from a `SequenceSchema`.\n",
    "Additionally, if a key is missing, we can give it a default value during serialization by specifying `default` or a default value during deserialization with the `missing` argument."
   ]
  },
  {
   "cell_type": "markdown",
   "metadata": {},
   "source": [
    "![](colander.png)"
   ]
  },
  {
   "cell_type": "code",
   "execution_count": 4,
   "metadata": {},
   "outputs": [],
   "source": [
    "%%capture\n",
    "!pip install colander"
   ]
  },
  {
   "cell_type": "code",
   "execution_count": 5,
   "metadata": {},
   "outputs": [],
   "source": [
    "# just updating the value to be a date type\n",
    "from datetime import datetime\n",
    "message.update({\"date_of_birth\": datetime.strptime(message['date_of_birth'], '%Y-%M-%d')})"
   ]
  },
  {
   "cell_type": "code",
   "execution_count": 6,
   "metadata": {
    "scrolled": true
   },
   "outputs": [
    {
     "data": {
      "text/plain": [
       "{'name': \"Paul O'Brady\",\n",
       " 'email': 'paul.obrady@example.com',\n",
       " 'gender': 'M',\n",
       " 'date_of_birth': '01 Jan 1990',\n",
       " 'coffee_club_member': 'true',\n",
       " 'percent_discount': <colander.null>,\n",
       " 'order': {'order_id': '1111',\n",
       "  'items': [{'product_id': '12345', 'quantity': '1', 'unit_price': '4.65'},\n",
       "   {'product_id': '54321', 'quantity': '2', 'unit_price': '8.19'},\n",
       "   {'product_id': '112233', 'quantity': '1', 'unit_price': <colander.null>}]}}"
      ]
     },
     "execution_count": 6,
     "metadata": {},
     "output_type": "execute_result"
    }
   ],
   "source": [
    "import colander\n",
    "\n",
    "\n",
    "class Item(colander.MappingSchema):\n",
    "    product_id = colander.SchemaNode(colander.Int())\n",
    "    quantity = colander.SchemaNode(colander.Int())\n",
    "    unit_price = colander.SchemaNode(colander.Float(), missing=None)\n",
    "\n",
    "    \n",
    "class Items(colander.SequenceSchema):\n",
    "    item = Item()\n",
    "\n",
    "    \n",
    "class Order(colander.MappingSchema):\n",
    "    order_id = colander.SchemaNode(colander.Int())\n",
    "    items = Items()\n",
    "\n",
    "    \n",
    "class Message(colander.MappingSchema):\n",
    "    name = colander.SchemaNode(colander.Str())\n",
    "    email = colander.SchemaNode(colander.Str(), validator=colander.Email())    \n",
    "    gender = colander.SchemaNode(colander.Str(), validator=colander.OneOf(['M', 'F', '']), default='', missing='')\n",
    "    date_of_birth = colander.SchemaNode(colander.Date(format='%d %b %Y'))\n",
    "    coffee_club_member = colander.SchemaNode(colander.Bool(), default=False, missing=False)\n",
    "    percent_discount = colander.SchemaNode(colander.Float(), validator=colander.Range(min=0, max=1), missing=0)\n",
    "    order = Order()\n",
    "\n",
    "\n",
    "json_serialized = Message().serialize(message)\n",
    "json_serialized"
   ]
  },
  {
   "cell_type": "code",
   "execution_count": 7,
   "metadata": {},
   "outputs": [
    {
     "data": {
      "text/plain": [
       "{'name': \"Paul O'Brady\",\n",
       " 'email': 'paul.obrady@example.com',\n",
       " 'gender': 'M',\n",
       " 'date_of_birth': datetime.date(1990, 1, 1),\n",
       " 'coffee_club_member': True,\n",
       " 'percent_discount': 0,\n",
       " 'order': {'order_id': 1111,\n",
       "  'items': [{'product_id': 12345, 'quantity': 1, 'unit_price': 4.65},\n",
       "   {'product_id': 54321, 'quantity': 2, 'unit_price': 8.19},\n",
       "   {'product_id': 112233, 'quantity': 1, 'unit_price': None}]}}"
      ]
     },
     "execution_count": 7,
     "metadata": {},
     "output_type": "execute_result"
    }
   ],
   "source": [
    "json_deserialized = Message().deserialize(json_serialized)\n",
    "json_deserialized"
   ]
  },
  {
   "cell_type": "markdown",
   "metadata": {},
   "source": [
    "## 3. Colander advanced features"
   ]
  },
  {
   "cell_type": "markdown",
   "metadata": {},
   "source": [
    "Let's try out a scenario where your JSON structure is more complex, for example it contains your model predictions."
   ]
  },
  {
   "cell_type": "code",
   "execution_count": 8,
   "metadata": {},
   "outputs": [],
   "source": [
    "import numpy as np\n",
    "\n",
    "json_predictions = {\n",
    "    'proba': np.array([0.56, 0.83, 0.23, 0.76, 0.92]),\n",
    "    'categ': ['A', 'A', 'B', 'B', 'C']\n",
    "}"
   ]
  },
  {
   "cell_type": "markdown",
   "metadata": {},
   "source": [
    "Similar as before, we define the nodes, sequence and mapping."
   ]
  },
  {
   "cell_type": "markdown",
   "metadata": {},
   "source": [
    "### 3.1 Custom `SchemaType`"
   ]
  },
  {
   "cell_type": "code",
   "execution_count": 9,
   "metadata": {},
   "outputs": [],
   "source": [
    "# Define the individual\n",
    "class Probability(colander.SchemaNode):\n",
    "    schema_type = colander.Float\n",
    "    validator = colander.Range(min=0.00, max=1.00)\n",
    "\n",
    "class Category(colander.SchemaNode):\n",
    "    schema_type = colander.Str\n",
    "    validator = validator=colander.OneOf(['A', 'B', 'C'])\n",
    "    \n",
    "# Define the sequences\n",
    "class Probabilities(colander.SequenceSchema):\n",
    "    proba = Probability()\n",
    "\n",
    "class Categories(colander.SequenceSchema):\n",
    "    proba = Category()\n",
    "    \n",
    "# Define the SchemaMapping\n",
    "class ModelResults(colander.MappingSchema):\n",
    "    proba = Probabilities()\n",
    "    categ = Categories()"
   ]
  },
  {
   "cell_type": "code",
   "execution_count": 10,
   "metadata": {},
   "outputs": [
    {
     "data": {
      "text/plain": [
       "{'proba': ['0.56', '0.83', '0.23', '0.76', '0.92'],\n",
       " 'categ': ['A', 'A', 'B', 'B', 'C']}"
      ]
     },
     "execution_count": 10,
     "metadata": {},
     "output_type": "execute_result"
    }
   ],
   "source": [
    "# serialized\n",
    "serialized_results = ModelResults().serialize(json_predictions)\n",
    "serialized_results"
   ]
  },
  {
   "cell_type": "code",
   "execution_count": 11,
   "metadata": {},
   "outputs": [
    {
     "data": {
      "text/plain": [
       "{'proba': [0.56, 0.83, 0.23, 0.76, 0.92], 'categ': ['A', 'A', 'B', 'B', 'C']}"
      ]
     },
     "execution_count": 11,
     "metadata": {},
     "output_type": "execute_result"
    }
   ],
   "source": [
    "# deserialized\n",
    "deserialized_results = ModelResults().deserialize(serialized_results)\n",
    "deserialized_results"
   ]
  },
  {
   "cell_type": "markdown",
   "metadata": {},
   "source": [
    "Note that we have lost our original numpy array ! This is because the `SchemaType` of our probability is define as a `colander.Float`. In order to get back a numpy array, we'll need to define our own `SchemaType`."
   ]
  },
  {
   "cell_type": "code",
   "execution_count": 12,
   "metadata": {},
   "outputs": [],
   "source": [
    "from colander import SchemaType, Invalid, null\n",
    "\n",
    "\n",
    "class NumpyArray(SchemaType):\n",
    "    def serialize(self, node, cstruct):\n",
    "        if cstruct is null:\n",
    "            return null\n",
    "        if not isinstance(cstruct, np.ndarray):\n",
    "            raise Invalid(node, '%r is not a np.array' % cstruct)\n",
    "        return cstruct.tolist()\n",
    "    def deserialize(self, node, appstruct):\n",
    "        if appstruct is null:\n",
    "            return null\n",
    "        if not isinstance(appstruct, list):\n",
    "            raise Invalid(node, '%r is not a list' % appstruct)\n",
    "        return np.array([x for x in appstruct], dtype=float)\n",
    "\n",
    "# Define the SchemaMapping\n",
    "class ModelResults(colander.MappingSchema):\n",
    "    proba = Probabilities(NumpyArray())\n",
    "    categ = Categories()"
   ]
  },
  {
   "cell_type": "code",
   "execution_count": 13,
   "metadata": {},
   "outputs": [
    {
     "data": {
      "text/plain": [
       "{'proba': [0.56, 0.83, 0.23, 0.76, 0.92], 'categ': ['A', 'A', 'B', 'B', 'C']}"
      ]
     },
     "execution_count": 13,
     "metadata": {},
     "output_type": "execute_result"
    }
   ],
   "source": [
    "# serialized\n",
    "serialized_results = ModelResults().serialize(json_predictions)\n",
    "serialized_results "
   ]
  },
  {
   "cell_type": "code",
   "execution_count": 14,
   "metadata": {},
   "outputs": [
    {
     "data": {
      "text/plain": [
       "{'proba': array([0.56, 0.83, 0.23, 0.76, 0.92]),\n",
       " 'categ': ['A', 'A', 'B', 'B', 'C']}"
      ]
     },
     "execution_count": 14,
     "metadata": {},
     "output_type": "execute_result"
    }
   ],
   "source": [
    "# deserialized\n",
    "\n",
    "deserialized_results = ModelResults().deserialize(serialized_results)\n",
    "deserialized_results"
   ]
  },
  {
   "cell_type": "markdown",
   "metadata": {},
   "source": [
    "### 3.2 Deffered functions and schema binding\n",
    "\n",
    "If we need an extra indicator in our deserialized JSON which is not always provided pre serialization, and should default to `False`, we can do"
   ]
  },
  {
   "cell_type": "code",
   "execution_count": 15,
   "metadata": {},
   "outputs": [
    {
     "data": {
      "text/plain": [
       "{'proba': array([0.56, 0.83, 0.23, 0.76, 0.92]),\n",
       " 'categ': ['A', 'A', 'B', 'B', 'C'],\n",
       " 'indic': [False, False, False, False]}"
      ]
     },
     "execution_count": 15,
     "metadata": {},
     "output_type": "execute_result"
    }
   ],
   "source": [
    "class Indicators(colander.SequenceSchema):\n",
    "    ind = colander.SchemaNode(colander.Bool(), default=False, missing=False)\n",
    "    missing = [False, False, False, False]\n",
    "    \n",
    "    \n",
    "class ModelResults(colander.MappingSchema):\n",
    "    proba = Probabilities(NumpyArray())\n",
    "    categ = Categories()\n",
    "    indic = Indicators()\n",
    "\n",
    "# deserialized\n",
    "deserialized_results = ModelResults().deserialize(serialized_results)\n",
    "deserialized_results"
   ]
  },
  {
   "cell_type": "markdown",
   "metadata": {},
   "source": [
    "However here we assumed that regardless of the length of our input proba and categ lists, the default indic value will always have a length of 5. \n",
    "\n",
    "A way around this issue is to:\n",
    "* define a deferred function that we'll use in place of the hardcoded missing values\n",
    "* bind the schema passing the relevent parameter before deserialization"
   ]
  },
  {
   "cell_type": "code",
   "execution_count": 16,
   "metadata": {},
   "outputs": [
    {
     "data": {
      "text/plain": [
       "{'proba': array([0.56, 0.83, 0.23, 0.76, 0.92]),\n",
       " 'categ': ['A', 'A', 'B', 'B', 'C'],\n",
       " 'indic': [False, False, False, False, False]}"
      ]
     },
     "execution_count": 16,
     "metadata": {},
     "output_type": "execute_result"
    }
   ],
   "source": [
    "@colander.deferred\n",
    "def missing_indicators(node, kw):\n",
    "    return [False] * kw.get('n_predictions')\n",
    "\n",
    "class Indicators(colander.SequenceSchema):\n",
    "    ind = colander.SchemaNode(colander.Bool(), default=False, missing=False)\n",
    "    missing = missing_indicators\n",
    "\n",
    "class ModelResults(colander.MappingSchema):\n",
    "    proba = Probabilities(NumpyArray())\n",
    "    categ = Categories()\n",
    "    indic = Indicators()\n",
    "    \n",
    "# deserialized\n",
    "deserialized_results = ModelResults().bind(n_predictions=len(json_predictions['proba'])).deserialize(serialized_results)\n",
    "deserialized_results"
   ]
  },
  {
   "cell_type": "code",
   "execution_count": 17,
   "metadata": {},
   "outputs": [],
   "source": [
    "json_predictions = {\n",
    "    'proba': np.array([0.56, 0.83]),\n",
    "    'categ': ['A', 'A']\n",
    "}"
   ]
  },
  {
   "cell_type": "code",
   "execution_count": 18,
   "metadata": {},
   "outputs": [
    {
     "data": {
      "text/plain": [
       "{'proba': [0.56, 0.83], 'categ': ['A', 'A'], 'indic': <colander.null>}"
      ]
     },
     "execution_count": 18,
     "metadata": {},
     "output_type": "execute_result"
    }
   ],
   "source": [
    "serialized_results = ModelResults().bind(n_predictions=len(json_predictions['proba'])).serialize(json_predictions)\n",
    "serialized_results"
   ]
  },
  {
   "cell_type": "code",
   "execution_count": 19,
   "metadata": {},
   "outputs": [
    {
     "data": {
      "text/plain": [
       "{'proba': array([0.56, 0.83]), 'categ': ['A', 'A'], 'indic': [False, False]}"
      ]
     },
     "execution_count": 19,
     "metadata": {},
     "output_type": "execute_result"
    }
   ],
   "source": [
    "deserialized_results = ModelResults().bind(n_predictions=len(json_predictions['proba'])).deserialize(serialized_results)\n",
    "deserialized_results"
   ]
  },
  {
   "cell_type": "code",
   "execution_count": null,
   "metadata": {},
   "outputs": [],
   "source": []
  }
 ],
 "metadata": {
  "kernelspec": {
   "display_name": "Python 3",
   "language": "python",
   "name": "python3"
  },
  "language_info": {
   "codemirror_mode": {
    "name": "ipython",
    "version": 3
   },
   "file_extension": ".py",
   "mimetype": "text/x-python",
   "name": "python",
   "nbconvert_exporter": "python",
   "pygments_lexer": "ipython3",
   "version": "3.7.4"
  }
 },
 "nbformat": 4,
 "nbformat_minor": 2
}
